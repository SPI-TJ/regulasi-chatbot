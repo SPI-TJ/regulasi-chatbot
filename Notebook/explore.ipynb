{
 "cells": [
  {
   "cell_type": "code",
   "execution_count": 1,
   "id": "f23fd9fb",
   "metadata": {},
   "outputs": [
    {
     "name": "stderr",
     "output_type": "stream",
     "text": [
      "c:\\Users\\Hafiizh Taufiqul H\\Documents\\Transjakarta\\1. Satuan Pengawas Internal\\4. Model\\2. Chatbot Peraturan\\.venv\\Lib\\site-packages\\tqdm\\auto.py:21: TqdmWarning: IProgress not found. Please update jupyter and ipywidgets. See https://ipywidgets.readthedocs.io/en/stable/user_install.html\n",
      "  from .autonotebook import tqdm as notebook_tqdm\n"
     ]
    }
   ],
   "source": [
    "from langchain.document_loaders import PyPDFLoader\n",
    "from langchain.embeddings import HuggingFaceBgeEmbeddings\n",
    "from langchain.vectorstores import Qdrant\n",
    "from langchain.text_splitter import RecursiveCharacterTextSplitter\n",
    "from langchain.chains import RetrievalQA\n",
    "from langchain.llms import HuggingFacePipeline\n",
    "from transformers import pipeline,  AutoModelForCausalLM, AutoTokenizer\n",
    "\n",
    "import os\n",
    "import numpy as np\n",
    "import traceback\n",
    "import pytesseract\n",
    "import easyocr\n",
    "import cv2\n",
    "import fitz\n",
    "import time\n",
    "from PIL import Image\n",
    "\n",
    "import warnings\n",
    "warnings.filterwarnings(\"ignore\")"
   ]
  },
  {
   "cell_type": "code",
   "execution_count": 2,
   "id": "a63ad7b8",
   "metadata": {},
   "outputs": [],
   "source": [
    "file_path = \"../Data/e-19_Laporan Hasil Audit atas Pengadaan Barang dan Jasa Pekerjaan Pembangunan Revitalisasi Halt.pdf\""
   ]
  },
  {
   "cell_type": "code",
   "execution_count": 3,
   "id": "f95d0364",
   "metadata": {},
   "outputs": [
    {
     "name": "stderr",
     "output_type": "stream",
     "text": [
      "Multiple definitions in dictionary at byte 0x5e5736 for key /Info\n",
      "Multiple definitions in dictionary at byte 0x5e5743 for key /Info\n"
     ]
    },
    {
     "name": "stdout",
     "output_type": "stream",
     "text": [
      "✅ Berhasil load 17 halaman dari ../Data/e-19_Laporan Hasil Audit atas Pengadaan Barang dan Jasa Pekerjaan Pembangunan Revitalisasi Halt.pdf\n",
      "\n"
     ]
    }
   ],
   "source": [
    "# Reading PDF file\n",
    "try:\n",
    "    loader = PyPDFLoader(file_path)\n",
    "    docs = loader.load()\n",
    "    print(f\"✅ Berhasil load {len(docs)} halaman dari {file_path}\\n\")\n",
    "except Exception as e:\n",
    "    print(\"❌ Gagal load PDF!\")\n",
    "    print(traceback.format_exc())\n",
    "    exit()"
   ]
  },
  {
   "cell_type": "code",
   "execution_count": 4,
   "id": "3c7b2470",
   "metadata": {},
   "outputs": [
    {
     "name": "stderr",
     "output_type": "stream",
     "text": [
      "Neither CUDA nor MPS are available - defaulting to CPU. Note: This module is much faster with a GPU.\n"
     ]
    }
   ],
   "source": [
    "reader = easyocr.Reader(['id', 'en'])"
   ]
  },
  {
   "cell_type": "code",
   "execution_count": 5,
   "id": "08077460",
   "metadata": {},
   "outputs": [
    {
     "name": "stdout",
     "output_type": "stream",
     "text": [
      "✅ Berhasil load 17 halaman dari ../Data/e-19_Laporan Hasil Audit atas Pengadaan Barang dan Jasa Pekerjaan Pembangunan Revitalisasi Halt.pdf\n",
      "\n"
     ]
    }
   ],
   "source": [
    "# Load PDF dan konversi halaman ke gambar\n",
    "try:\n",
    "    doc = fitz.open(file_path)\n",
    "    print(f\"✅ Berhasil load {len(doc)} halaman dari {file_path}\\n\")\n",
    "except Exception as e:\n",
    "    print(\"❌ Gagal load PDF!\")\n",
    "    print(traceback.format_exc())\n",
    "    exit()"
   ]
  },
  {
   "cell_type": "code",
   "execution_count": 6,
   "id": "f2dd1f7a",
   "metadata": {},
   "outputs": [
    {
     "name": "stdout",
     "output_type": "stream",
     "text": [
      "\n",
      "📃 Halaman 1\n",
      "❌ pytesseract gagal!\n",
      "🧠 easyocr selesai dalam 34.25s\n",
      "\n",
      "📌 Hasil OCR (pytesseract):\n",
      " ...\n",
      "\n",
      "📌 Hasil OCR (easyocr):\n",
      "transiakarta\n",
      "NOTA DINAS\n",
      "Kepada Nomor\n",
      "Direktur Utama\n",
      "e-19/NOTA-USIDUIPT.TJIII2025\n",
      "Sifat\n",
      "Kilat\n",
      "Lampiran\n",
      "Hal\n",
      "Penyampaian Laporan Hasil Audit atas Pengadaan Barang dan Jasa Pekerjaan Pembangunan Revitalisasi Halte BRT Paket € & D\n",
      "Dengan hormat; Sehubungan dengan Surat Tugas Direktur Utama PT Transportasi Jakarta Nomor 62/TUG DUIPT.TJIPT.TJIII/2024 tanggal 13 Februari 2024 Tentang Audit Atas Pengadaan Barang & Jasa   Pekerjaan   Pembangunan Revitalisasi   Halte BRT Paket C & D, bersama ini kami sampa ...\n",
      "\n"
     ]
    }
   ],
   "source": [
    "# Loop setiap halaman\n",
    "for i, page in enumerate(doc):\n",
    "    print(f\"\\n📃 Halaman {i + 1}\")\n",
    "\n",
    "    try:\n",
    "        # Render halaman jadi gambar (pixmap)\n",
    "        pix = page.get_pixmap(dpi=300)\n",
    "        img = Image.frombytes(\"RGB\", [pix.width, pix.height], pix.samples)\n",
    "    except Exception as e:\n",
    "        print(\"❌ Gagal render halaman ke gambar!\")\n",
    "        print(traceback.format_exc())\n",
    "        continue\n",
    "\n",
    "    # OCR pakai pytesseract\n",
    "    try:\n",
    "        start_time = time.time()\n",
    "        text_tess = pytesseract.image_to_string(img, lang='ind')\n",
    "        tess_time = time.time() - start_time\n",
    "        print(f\"🧠 pytesseract selesai dalam {tess_time:.2f}s\")\n",
    "    except Exception as e:\n",
    "        print(\"❌ pytesseract gagal!\")\n",
    "        text_tess = \"\"\n",
    "\n",
    "    # OCR pakai easyocr\n",
    "    try:\n",
    "        start_time = time.time()\n",
    "        results = reader.readtext(np.array(img), detail=0, paragraph=True)\n",
    "        text_easy = \"\\n\".join(results)\n",
    "        easy_time = time.time() - start_time\n",
    "        print(f\"🧠 easyocr selesai dalam {easy_time:.2f}s\")\n",
    "    except Exception as e:\n",
    "        print(\"❌ easyocr gagal!\")\n",
    "        text_easy = \"\"\n",
    "\n",
    "    # Preview hasil\n",
    "    print(\"\\n📌 Hasil OCR (pytesseract):\")\n",
    "    print(text_tess[:500], \"...\\n\")  # tampilkan 500 karakter awal\n",
    "\n",
    "    print(\"📌 Hasil OCR (easyocr):\")\n",
    "    print(text_easy[:500], \"...\\n\")\n",
    "\n",
    "    # Optional: break untuk test 1 halaman dulu\n",
    "    break"
   ]
  },
  {
   "cell_type": "code",
   "execution_count": null,
   "id": "5c26c288",
   "metadata": {},
   "outputs": [
    {
     "name": "stdout",
     "output_type": "stream",
     "text": [
      "✅ Berhasil split jadi 0 chunk\n",
      "\n"
     ]
    }
   ],
   "source": [
    "# Chungking\n",
    "try:\n",
    "    splitter = RecursiveCharacterTextSplitter(chunk_size=500, chunk_overlap=50)\n",
    "    splits = splitter.split_documents(docs)\n",
    "    print(f\"✅ Berhasil split jadi {len(splits)} chunk\\n\")\n",
    "except Exception as e:\n",
    "    print(\"❌ Gagal split dokumen!\")\n",
    "    print(traceback.format_exc())\n",
    "    exit()"
   ]
  },
  {
   "cell_type": "code",
   "execution_count": null,
   "id": "60d1fbc7",
   "metadata": {},
   "outputs": [],
   "source": []
  },
  {
   "cell_type": "code",
   "execution_count": null,
   "id": "3e4ed10b",
   "metadata": {},
   "outputs": [],
   "source": []
  },
  {
   "cell_type": "code",
   "execution_count": null,
   "id": "520d5f9c",
   "metadata": {},
   "outputs": [],
   "source": []
  },
  {
   "cell_type": "code",
   "execution_count": null,
   "id": "dc46c8b3",
   "metadata": {},
   "outputs": [],
   "source": []
  },
  {
   "cell_type": "code",
   "execution_count": null,
   "id": "ae0e1456",
   "metadata": {},
   "outputs": [],
   "source": []
  },
  {
   "cell_type": "code",
   "execution_count": null,
   "id": "cb74b26c",
   "metadata": {},
   "outputs": [],
   "source": []
  }
 ],
 "metadata": {
  "kernelspec": {
   "display_name": ".venv",
   "language": "python",
   "name": "python3"
  },
  "language_info": {
   "codemirror_mode": {
    "name": "ipython",
    "version": 3
   },
   "file_extension": ".py",
   "mimetype": "text/x-python",
   "name": "python",
   "nbconvert_exporter": "python",
   "pygments_lexer": "ipython3",
   "version": "3.12.10"
  }
 },
 "nbformat": 4,
 "nbformat_minor": 5
}
