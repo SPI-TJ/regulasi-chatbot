{
 "cells": [
  {
   "cell_type": "code",
   "execution_count": 42,
   "id": "dc46c8b3",
   "metadata": {},
   "outputs": [],
   "source": [
    "from langchain_community.document_loaders import PyPDFLoader\n",
    "from PIL import Image\n",
    "import pytesseract\n",
    "import fitz\n",
    "\n",
    "def extract_text_from_pdf_with_ocr(pdf_path):\n",
    "    doc = fitz.open(pdf_path)\n",
    "    all_docs = []\n",
    "\n",
    "    for i, page in enumerate(doc):\n",
    "        pix = page.get_pixmap(dpi=300)\n",
    "        img = Image.frombytes(\"RGB\", [pix.width, pix.height], pix.samples)\n",
    "        text = pytesseract.image_to_string(img, lang=\"ind\")\n",
    "        all_docs.append({\"page\": i + 1, \"content\": text})\n",
    "\n",
    "    return all_docs\n",
    "\n",
    "docs = extract_text_from_pdf_with_ocr(\"../Data/e-1693_Laporan Hasil Reviu Atas Perhitungan Unit Price Volume Pekerjaan Revitalisasi Halte .pdf\")\n"
   ]
  },
  {
   "cell_type": "code",
   "execution_count": 43,
   "id": "ae0e1456",
   "metadata": {},
   "outputs": [],
   "source": [
    "from langchain.text_splitter import RecursiveCharacterTextSplitter\n",
    "\n",
    "text_splitter = RecursiveCharacterTextSplitter(\n",
    "    chunk_size=520\n",
    ")\n",
    "\n",
    "final_chunks = []\n",
    "\n",
    "for doc in docs:\n",
    "    chunks = text_splitter.split_text(doc['content'])\n",
    "    for i, chunk in enumerate(chunks):\n",
    "        final_chunks.append({\n",
    "            \"text\": chunk,\n",
    "            \"metadata\": {\"page\": doc[\"page\"], \"chunk\": i}\n",
    "        })\n"
   ]
  },
  {
   "cell_type": "code",
   "execution_count": 44,
   "id": "eeb42dc6",
   "metadata": {},
   "outputs": [],
   "source": [
    "from langchain_community.embeddings import HuggingFaceEmbeddings\n",
    "from langchain_community.vectorstores.faiss import FAISS\n",
    "from langchain.schema import Document\n",
    "\n",
    "\n",
    "embeddings = HuggingFaceEmbeddings(\n",
    "    model_name=\"sentence-transformers/all-MiniLM-L6-v2\"\n",
    ")\n",
    "\n",
    "lc_docs = [\n",
    "    Document(page_content=c[\"text\"], metadata=c[\"metadata\"])\n",
    "    for c in final_chunks\n",
    "]\n",
    "\n",
    "db = FAISS.from_documents(lc_docs, embeddings)"
   ]
  },
  {
   "cell_type": "code",
   "execution_count": 45,
   "id": "126546d2",
   "metadata": {},
   "outputs": [],
   "source": [
    "import google.generativeai as genai\n",
    "from dotenv import load_dotenv\n",
    "import os"
   ]
  },
  {
   "cell_type": "code",
   "execution_count": 46,
   "id": "c184cf83",
   "metadata": {},
   "outputs": [
    {
     "data": {
      "text/plain": [
       "True"
      ]
     },
     "execution_count": 46,
     "metadata": {},
     "output_type": "execute_result"
    }
   ],
   "source": [
    "\n",
    "load_dotenv(dotenv_path=\"../config/.env\")"
   ]
  },
  {
   "cell_type": "code",
   "execution_count": 47,
   "id": "a32b31ca",
   "metadata": {},
   "outputs": [],
   "source": [
    "google_api_key = os.getenv('GOOGLE_API_KEY')\n",
    "genai.configure(api_key=google_api_key)"
   ]
  },
  {
   "cell_type": "code",
   "execution_count": 48,
   "id": "364ad2e3",
   "metadata": {},
   "outputs": [],
   "source": [
    "model = genai.GenerativeModel(model_name = \"gemini-1.5-flash\")"
   ]
  },
  {
   "cell_type": "code",
   "execution_count": 49,
   "id": "a8c706f0",
   "metadata": {},
   "outputs": [],
   "source": [
    "from langchain_google_genai import ChatGoogleGenerativeAI\n",
    "from langchain.chains import RetrievalQA\n",
    "\n",
    "\n",
    "llm = ChatGoogleGenerativeAI(model=\"gemini-1.5-flash\")\n",
    "\n",
    "retriever = db.as_retriever(search_kwargs={\"k\": 3})\n",
    "\n",
    "qa_chain = RetrievalQA.from_chain_type(\n",
    "    llm=llm,\n",
    "    retriever=retriever,\n",
    "    return_source_documents=True\n",
    ")\n"
   ]
  },
  {
   "cell_type": "code",
   "execution_count": 57,
   "id": "fbbfc9a4",
   "metadata": {},
   "outputs": [
    {
     "name": "stdout",
     "output_type": "stream",
     "text": [
      "Pemeriksa dokumen ini adalah Alvian Fitriadi, Senior Spesialis Auditor.\n"
     ]
    }
   ],
   "source": [
    "response = qa_chain.invoke({\"query\": \"Siapa Pemeriksa dokumen ini?\"})\n",
    "print(response['result'])"
   ]
  },
  {
   "cell_type": "code",
   "execution_count": null,
   "id": "58933ee3",
   "metadata": {},
   "outputs": [],
   "source": []
  },
  {
   "cell_type": "code",
   "execution_count": null,
   "id": "6e824cb3",
   "metadata": {},
   "outputs": [],
   "source": []
  },
  {
   "cell_type": "code",
   "execution_count": null,
   "id": "5441d9f3",
   "metadata": {},
   "outputs": [],
   "source": []
  },
  {
   "cell_type": "code",
   "execution_count": null,
   "id": "9775d76f",
   "metadata": {},
   "outputs": [],
   "source": []
  }
 ],
 "metadata": {
  "kernelspec": {
   "display_name": ".venv",
   "language": "python",
   "name": "python3"
  },
  "language_info": {
   "codemirror_mode": {
    "name": "ipython",
    "version": 3
   },
   "file_extension": ".py",
   "mimetype": "text/x-python",
   "name": "python",
   "nbconvert_exporter": "python",
   "pygments_lexer": "ipython3",
   "version": "3.12.10"
  }
 },
 "nbformat": 4,
 "nbformat_minor": 5
}
